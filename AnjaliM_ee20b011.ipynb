{
  "nbformat": 4,
  "nbformat_minor": 0,
  "metadata": {
    "colab": {
      "name": "anjali_assignment1.ipynb",
      "provenance": [],
      "collapsed_sections": []
    },
    "kernelspec": {
      "name": "python3",
      "display_name": "Python 3"
    },
    "language_info": {
      "name": "python"
    }
  },
  "cells": [
    {
      "cell_type": "code",
      "metadata": {
        "id": "WfMTN7mOdTuY"
      },
      "source": [
        ""
      ],
      "execution_count": null,
      "outputs": []
    },
    {
      "cell_type": "markdown",
      "metadata": {
        "id": "pqi8PxujdZc7"
      },
      "source": [
        "#"
      ]
    },
    {
      "cell_type": "code",
      "metadata": {
        "colab": {
          "base_uri": "https://localhost:8080/"
        },
        "id": "dwXPd5aXdcsA",
        "outputId": "3f209e23-e11a-4c9d-90ee-24e7325a1e14"
      },
      "source": [
        "#solution to assignment 1\n",
        "import math\n",
        "import numpy as np\n",
        "y_hat=np.random.rand(50)\n",
        "y=np.random.rand(50)\n",
        "for i in range(0,50,1): #to generate array of 0s and 1s\n",
        "  if (y[i]>0.5):\n",
        "    y[i]=1\n",
        "  else:\n",
        "    y[i]=0\n",
        "\n",
        "ans_o=0.0\n",
        "for i in range (0,50,1):\n",
        "  ans_o=ans_o+ (y[i]*math.log(y_hat[i],2) + (1-y[i])*(math.log((1-y_hat[i]),2)))\n",
        "ans_o=-ans_o/100\n",
        "print (ans_o)"
      ],
      "execution_count": 15,
      "outputs": [
        {
          "output_type": "stream",
          "text": [
            "0.6703371519008468\n"
          ],
          "name": "stdout"
        }
      ]
    },
    {
      "cell_type": "code",
      "metadata": {
        "colab": {
          "base_uri": "https://localhost:8080/"
        },
        "id": "8WdeYyOBjlQE",
        "outputId": "50657ff6-5082-4613-c892-e6a6f45c41ed"
      },
      "source": [
        "#solution to assignment 2\n",
        "\n",
        "class find_nos:\n",
        "  dict={}\n",
        "  list=[]\n",
        "  def getlist(self,n):\n",
        "    for i in range(0, n):\n",
        "      num=int(input())\n",
        "      self.list.append(num) # adding the element\n",
        "\n",
        "  def find_ans(self,n,sum):\n",
        "    key=0\n",
        "    for i in range (0,n,1):\n",
        "      for j in range (i+1,n,1):\n",
        "        if (self.list[i]+self.list[j]==sum):\n",
        "          self.dict[key]={key+1:[i,j]}\n",
        "          key=key+1;\n",
        "    return self.dict\n",
        "\n",
        "\n",
        "n=int(input(\"Enter no of elements: \"))\n",
        "sum=int(input(\"Enter required sum:\"))\n",
        "print(\"Enter the elements\")\n",
        "obj=find_nos()\n",
        "obj.getlist(n)\n",
        "print (list)\n",
        "mydictionary=obj.find_ans(n,sum)\n",
        "print (mydictionary)"
      ],
      "execution_count": 31,
      "outputs": [
        {
          "output_type": "stream",
          "text": [
            "Enter no of elements: 5\n",
            "Enter required sum:3\n",
            "Enter the elements\n",
            "1\n",
            "2\n",
            "3\n",
            "4\n",
            "2\n",
            "<class 'list'>\n",
            "{0: {1: [0, 1]}, 1: {2: [0, 4]}}\n"
          ],
          "name": "stdout"
        }
      ]
    }
  ]
}